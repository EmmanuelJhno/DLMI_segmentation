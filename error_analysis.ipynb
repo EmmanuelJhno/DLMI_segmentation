{
 "cells": [
  {
   "cell_type": "code",
   "execution_count": 1,
   "metadata": {},
   "outputs": [
    {
     "name": "stderr",
     "output_type": "stream",
     "text": [
      "/home/raubyb/miniconda3/envs/MRIScoringEnv/lib/python3.7/site-packages/tensorboard/compat/tensorflow_stub/dtypes.py:541: FutureWarning: Passing (type, 1) or '1type' as a synonym of type is deprecated; in a future version of numpy, it will be understood as (type, (1,)) / '(1,)type'.\n",
      "  _np_qint8 = np.dtype([(\"qint8\", np.int8, 1)])\n",
      "/home/raubyb/miniconda3/envs/MRIScoringEnv/lib/python3.7/site-packages/tensorboard/compat/tensorflow_stub/dtypes.py:542: FutureWarning: Passing (type, 1) or '1type' as a synonym of type is deprecated; in a future version of numpy, it will be understood as (type, (1,)) / '(1,)type'.\n",
      "  _np_quint8 = np.dtype([(\"quint8\", np.uint8, 1)])\n",
      "/home/raubyb/miniconda3/envs/MRIScoringEnv/lib/python3.7/site-packages/tensorboard/compat/tensorflow_stub/dtypes.py:543: FutureWarning: Passing (type, 1) or '1type' as a synonym of type is deprecated; in a future version of numpy, it will be understood as (type, (1,)) / '(1,)type'.\n",
      "  _np_qint16 = np.dtype([(\"qint16\", np.int16, 1)])\n",
      "/home/raubyb/miniconda3/envs/MRIScoringEnv/lib/python3.7/site-packages/tensorboard/compat/tensorflow_stub/dtypes.py:544: FutureWarning: Passing (type, 1) or '1type' as a synonym of type is deprecated; in a future version of numpy, it will be understood as (type, (1,)) / '(1,)type'.\n",
      "  _np_quint16 = np.dtype([(\"quint16\", np.uint16, 1)])\n",
      "/home/raubyb/miniconda3/envs/MRIScoringEnv/lib/python3.7/site-packages/tensorboard/compat/tensorflow_stub/dtypes.py:545: FutureWarning: Passing (type, 1) or '1type' as a synonym of type is deprecated; in a future version of numpy, it will be understood as (type, (1,)) / '(1,)type'.\n",
      "  _np_qint32 = np.dtype([(\"qint32\", np.int32, 1)])\n",
      "/home/raubyb/miniconda3/envs/MRIScoringEnv/lib/python3.7/site-packages/tensorboard/compat/tensorflow_stub/dtypes.py:550: FutureWarning: Passing (type, 1) or '1type' as a synonym of type is deprecated; in a future version of numpy, it will be understood as (type, (1,)) / '(1,)type'.\n",
      "  np_resource = np.dtype([(\"resource\", np.ubyte, 1)])\n"
     ]
    }
   ],
   "source": [
    "import os\n",
    "import sys\n",
    "import json\n",
    "import time \n",
    "import copy\n",
    "import argparse\n",
    "# sys.path.append(os.path.dirname(os.path.dirname(os.path.abspath(__file__))))\n",
    "\n",
    "import SimpleITK as sitk\n",
    "import tqdm\n",
    "import pandas as pd \n",
    "from PIL import Image\n",
    "import torch\n",
    "import torch.nn as nn\n",
    "import numpy as np\n",
    "import matplotlib.pyplot as plt\n",
    "from sklearn.decomposition import PCA\n",
    "from sklearn.manifold import TSNE\n",
    "from torchvision import transforms\n",
    "from torch.utils.data import DataLoader\n",
    "from models import get_model\n",
    "from data_loader.LiTS import LiTSDataset\n",
    "from utils.train import ObjFromDict\n",
    "\n",
    "\n",
    "def load_model(run_dir, metric='validation_dice'): \n",
    "    with open(os.path.join(run_dir,'config.json')) as json_file:\n",
    "        config = json.load(json_file)\n",
    "    config = ObjFromDict(config)\n",
    "    model = get_model(config.model)\n",
    "    checkpoint_path = os.path.join(run_dir, 'best_{}.pth'.format(metric)) \n",
    "    model.load_state_dict(torch.load(checkpoint_path, map_location='cpu'))\n",
    "    return model, config\n",
    "\n",
    "def compute_dice(gt, pred): \n",
    "    eps = 1e-5\n",
    "    intersection = np.sum(gt * pred)\n",
    "    return ((2*  intersection) + eps)/ (eps + np.sum(gt+pred))"
   ]
  },
  {
   "cell_type": "code",
   "execution_count": 4,
   "metadata": {},
   "outputs": [
    {
     "name": "stdout",
     "output_type": "stream",
     "text": [
      "feature_scale not specified in config, setting to default 4\n"
     ]
    },
    {
     "name": "stderr",
     "output_type": "stream",
     "text": [
      "/home/raubyb/LiTS/DLMI_segmentation/models/unet.py:85: UserWarning: nn.init.kaiming_normal is now deprecated in favor of nn.init.kaiming_normal_.\n",
      "  nn.init.kaiming_normal(m.weight.data, a=0, mode='fan_in')\n",
      "/home/raubyb/LiTS/DLMI_segmentation/models/unet.py:89: UserWarning: nn.init.normal is now deprecated in favor of nn.init.normal_.\n",
      "  nn.init.normal(m.weight.data, 1.0, 0.02)\n",
      "/home/raubyb/LiTS/DLMI_segmentation/models/unet.py:90: UserWarning: nn.init.constant is now deprecated in favor of nn.init.constant_.\n",
      "  nn.init.constant(m.bias.data, 0.0)\n"
     ]
    }
   ],
   "source": [
    "run_dir = 'runs/2020-03-28_17h33min'\n",
    "model, config = load_model(run_dir)"
   ]
  },
  {
   "cell_type": "code",
   "execution_count": 5,
   "metadata": {},
   "outputs": [],
   "source": [
    "# device='cuda:0'\n",
    "device='cpu'"
   ]
  },
  {
   "cell_type": "code",
   "execution_count": 6,
   "metadata": {},
   "outputs": [
    {
     "name": "stdout",
     "output_type": "stream",
     "text": [
      "data_path  /home/raubyb/LiTS\n"
     ]
    }
   ],
   "source": [
    "data_path = config.dataset.root\n",
    "print('data_path ', data_path)\n",
    "\n",
    "# fix the seed for the split\n",
    "split_seed = 0 \n",
    "np.random.seed(split_seed)\n",
    "\n",
    "image_dir = os.listdir(os.path.join(data_path,'Training Batch 1')) + os.listdir(os.path.join(data_path,'Training Batch 2'))\n",
    "all_indexes = [ int(file_name[7:-4]) for file_name in image_dir if 'volume' in file_name]\n",
    "split = np.random.permutation(all_indexes)\n",
    "n_train, n_val, n_test = int(0.8 * len(split)), int(0.1 * len(split)), int(0.1 * len(split))\n",
    "\n",
    "train = split[: n_train]\n",
    "val = split[n_train : n_train+n_val]\n",
    "test = split[n_train + n_val :]\n",
    "\n",
    "\n",
    "# Setup Data Loader\n",
    "train_dataset = LiTSDataset(data_path, train, augment=True, no_tumor=True)\n",
    "val_dataset = LiTSDataset(data_path, val, no_tumor=True)\n",
    "test_dataset = LiTSDataset(data_path, test, no_tumor=True)\n",
    "train_dataloader = DataLoader(dataset=train_dataset, num_workers=config.dataset.num_workers, batch_size=config.training.batch_size, shuffle=True)\n",
    "val_dataloader = DataLoader(dataset=val_dataset, num_workers=config.dataset.num_workers, batch_size=config.training.batch_size, shuffle=False)\n",
    "test_dataloader  = DataLoader(dataset=test_dataset,  num_workers=config.dataset.num_workers, batch_size=config.training.batch_size, shuffle=False)\n",
    "\n"
   ]
  },
  {
   "cell_type": "code",
   "execution_count": null,
   "metadata": {},
   "outputs": [
    {
     "name": "stderr",
     "output_type": "stream",
     "text": [
      "0it [00:00, ?it/s]/home/raubyb/miniconda3/envs/MRIScoringEnv/lib/python3.7/site-packages/torch/nn/functional.py:2506: UserWarning: Default upsampling behavior when mode=trilinear is changed to align_corners=False since 0.4.0. Please specify align_corners=True if the old behavior is desired. See the documentation of nn.Upsample for details.\n",
      "  \"See the documentation of nn.Upsample for details.\".format(mode))\n",
      "2it [04:50, 171.98s/it]"
     ]
    }
   ],
   "source": [
    "batch_size=1\n",
    "model = model.to(device)\n",
    "model.eval()\n",
    "test_dataset = LiTSDataset(data_path, test, no_tumor=True, inference_mode=True)\n",
    "test_dataloader = DataLoader(dataset=test_dataset, num_workers=config.dataset.num_workers, batch_size=batch_size, shuffle=False)\n",
    "dices = []\n",
    "# train_dataloader = DataLoader(dataset=train_dataset, num_workers=config.dataset.num_workers, batch_size=1, shuffle=False)\n",
    "with torch.no_grad():\n",
    "    for batch_idx, (data, target) in tqdm.tqdm(enumerate(test_dataloader)):\n",
    "            data = data.to(device)\n",
    "            output = model(data)\n",
    "            for i in range(batch_size):\n",
    "                img = sitk.ReadImage(target['original_image_path'][i])\n",
    "                normalization_transform = test_dataset.get_normalization_transform(img)\n",
    "                inv_normalization_transform = normalization_transform.GetInverse()\n",
    "                out_mask = np.round(output.cpu().numpy()[0,1,:,:,:])\n",
    "\n",
    "                bb = target['bounding_box'].cpu().numpy()[0]\n",
    "\n",
    "                ref_img = sitk.Resample(img, test_dataset.reference_image, normalization_transform)\n",
    "\n",
    "                big_mask_numpy = sitk.GetArrayFromImage(ref_img)\n",
    "                big_mask_numpy[:,:,:] = 0\n",
    "                big_mask_numpy[bb[0]:bb[1],bb[2]:bb[3],bb[4]:bb[5]] = out_mask\n",
    "\n",
    "                out_mask_image = sitk.GetImageFromArray(big_mask_numpy)\n",
    "                out_mask_image.SetOrigin(ref_img.GetOrigin())\n",
    "                out_mask_image.SetDirection(ref_img.GetDirection())\n",
    "                out_mask_image.SetSpacing(ref_img.GetSpacing())\n",
    "                out_mask_image_original_space = sitk.Resample(out_mask_image, img, inv_normalization_transform, sitk.sitkNearestNeighbor)\n",
    "                original_mask = sitk.ReadImage(target['original_mask_path'][i])\n",
    "                original_mask_array = np.clip(sitk.GetArrayFromImage(original_mask),0,1)\n",
    "                out_mask_image_original_space_array = np.clip(sitk.GetArrayFromImage(out_mask_image_original_space),0,1)\n",
    "                dices.append(compute_dice(out_mask_image_original_space_array, original_mask_array))"
   ]
  },
  {
   "cell_type": "code",
   "execution_count": null,
   "metadata": {},
   "outputs": [],
   "source": [
    "dices"
   ]
  },
  {
   "cell_type": "code",
   "execution_count": null,
   "metadata": {},
   "outputs": [],
   "source": [
    "print(np.mean(dices))"
   ]
  },
  {
   "cell_type": "code",
   "execution_count": null,
   "metadata": {},
   "outputs": [],
   "source": [
    "batch_size=1\n",
    "model = model.to(device)\n",
    "model.eval()\n",
    "val_dataset = LiTSDataset(data_path, val, no_tumor=True, inference_mode=True)\n",
    "val_dataloader = DataLoader(dataset=val_dataset, num_workers=config.dataset.num_workers, batch_size=batch_size, shuffle=False)\n",
    "dices = []\n",
    "# train_dataloader = DataLoader(dataset=train_dataset, num_workers=config.dataset.num_workers, batch_size=1, shuffle=False)\n",
    "with torch.no_grad():\n",
    "    for batch_idx, (data, target) in tqdm.tqdm(enumerate(val_dataloader)):\n",
    "            data = data.to(device)\n",
    "            output = model(data)\n",
    "            for i in range(batch_size):\n",
    "                img = sitk.ReadImage(target['original_image_path'][i])\n",
    "                normalization_transform = test_dataset.get_normalization_transform(img)\n",
    "                inv_normalization_transform = normalization_transform.GetInverse()\n",
    "                out_mask = np.round(output.cpu().numpy()[0,1,:,:,:])\n",
    "\n",
    "                bb = target['bounding_box'].cpu().numpy()[0]\n",
    "\n",
    "                ref_img = sitk.Resample(img, test_dataset.reference_image, normalization_transform)\n",
    "\n",
    "                big_mask_numpy = sitk.GetArrayFromImage(ref_img)\n",
    "                big_mask_numpy[:,:,:] = 0\n",
    "                big_mask_numpy[bb[0]:bb[1],bb[2]:bb[3],bb[4]:bb[5]] = out_mask\n",
    "\n",
    "                out_mask_image = sitk.GetImageFromArray(big_mask_numpy)\n",
    "                out_mask_image.SetOrigin(ref_img.GetOrigin())\n",
    "                out_mask_image.SetDirection(ref_img.GetDirection())\n",
    "                out_mask_image.SetSpacing(ref_img.GetSpacing())\n",
    "                out_mask_image_original_space = sitk.Resample(out_mask_image, img, inv_normalization_transform, sitk.sitkNearestNeighbor)\n",
    "                original_mask = sitk.ReadImage(target['original_mask_path'][i])\n",
    "                original_mask_array = np.clip(sitk.GetArrayFromImage(original_mask),0,1)\n",
    "                out_mask_image_original_space_array = np.clip(sitk.GetArrayFromImage(out_mask_image_original_space),0,1)\n",
    "                dices.append(compute_dice(out_mask_image_original_space_array, original_mask_array))"
   ]
  },
  {
   "cell_type": "code",
   "execution_count": null,
   "metadata": {},
   "outputs": [],
   "source": [
    "dices"
   ]
  },
  {
   "cell_type": "code",
   "execution_count": null,
   "metadata": {},
   "outputs": [],
   "source": [
    "np.median(dices)"
   ]
  },
  {
   "cell_type": "code",
   "execution_count": 17,
   "metadata": {},
   "outputs": [
    {
     "name": "stderr",
     "output_type": "stream",
     "text": [
      "\n",
      "0it [00:00, ?it/s]\u001b[A\n",
      "1it [00:11, 11.93s/it]\u001b[A\n",
      "2it [00:21, 11.36s/it]\u001b[A\n",
      "3it [00:29, 10.32s/it]\u001b[A"
     ]
    }
   ],
   "source": [
    "batch_size=1\n",
    "model = model.to(device)\n",
    "model.eval()\n",
    "val_dataset = LiTSDataset(data_path, val, no_tumor=True, inference_mode=True)\n",
    "val_dataloader = DataLoader(dataset=val_dataset, num_workers=config.dataset.num_workers, batch_size=batch_size, shuffle=False)\n",
    "dices = []\n",
    "# train_dataloader = DataLoader(dataset=train_dataset, num_workers=config.dataset.num_workers, batch_size=1, shuffle=False)\n",
    "with torch.no_grad():\n",
    "    for batch_idx, (data, target) in tqdm.tqdm(enumerate(val_dataloader)):\n",
    "            data = data.to(device)\n",
    "#             output = model(data)\n",
    "            output = target[\"one_hot_target\"]\n",
    "            for i in range(batch_size):\n",
    "                img = sitk.ReadImage(target['original_image_path'][i])\n",
    "                normalization_transform = test_dataset.get_normalization_transform(img)\n",
    "                inv_normalization_transform = normalization_transform.GetInverse()\n",
    "                out_mask = np.round(output.cpu().numpy()[0,1,:,:,:])\n",
    "\n",
    "                bb = target['bounding_box'].cpu().numpy()[0]\n",
    "\n",
    "                ref_img = sitk.Resample(img, test_dataset.reference_image, normalization_transform)\n",
    "\n",
    "                big_mask_numpy = sitk.GetArrayFromImage(ref_img)\n",
    "                big_mask_numpy[:,:,:] = 0\n",
    "                big_mask_numpy[bb[0]:bb[1],bb[2]:bb[3],bb[4]:bb[5]] = out_mask\n",
    "\n",
    "                out_mask_image = sitk.GetImageFromArray(big_mask_numpy)\n",
    "                out_mask_image.SetOrigin(ref_img.GetOrigin())\n",
    "                out_mask_image.SetDirection(ref_img.GetDirection())\n",
    "                out_mask_image.SetSpacing(ref_img.GetSpacing())\n",
    "                out_mask_image_original_space = sitk.Resample(out_mask_image, img, inv_normalization_transform, sitk.sitkNearestNeighbor)\n",
    "                original_mask = sitk.ReadImage(target['original_mask_path'][i])\n",
    "                original_mask_array = np.clip(sitk.GetArrayFromImage(original_mask),0,1)\n",
    "                out_mask_image_original_space_array = np.clip(sitk.GetArrayFromImage(out_mask_image_original_space),0,1)\n",
    "                dice = compute_dice(out_mask_image_original_space_array, original_mask_array)\n",
    "                dices.append(dice)\n",
    "            if dices[-1]>1 or dices[-1]<0.9:\n",
    "                break"
   ]
  },
  {
   "cell_type": "code",
   "execution_count": 9,
   "metadata": {},
   "outputs": [
    {
     "data": {
      "text/plain": [
       "array([0., 1.], dtype=float32)"
      ]
     },
     "execution_count": 9,
     "metadata": {},
     "output_type": "execute_result"
    }
   ],
   "source": [
    "np.unique(out_mask_image_original_space_array)"
   ]
  },
  {
   "cell_type": "code",
   "execution_count": 11,
   "metadata": {},
   "outputs": [
    {
     "data": {
      "text/plain": [
       "array([0, 1, 2], dtype=uint8)"
      ]
     },
     "execution_count": 11,
     "metadata": {},
     "output_type": "execute_result"
    }
   ],
   "source": [
    "np.unique(original_mask_array)"
   ]
  },
  {
   "cell_type": "code",
   "execution_count": null,
   "metadata": {},
   "outputs": [],
   "source": []
  },
  {
   "cell_type": "code",
   "execution_count": null,
   "metadata": {},
   "outputs": [],
   "source": [
    "out_mask_image_original_space_array"
   ]
  },
  {
   "cell_type": "code",
   "execution_count": 22,
   "metadata": {},
   "outputs": [
    {
     "data": {
      "text/plain": [
       "(94, 512, 512)"
      ]
     },
     "execution_count": 22,
     "metadata": {},
     "output_type": "execute_result"
    }
   ],
   "source": [
    "out_mask_image_original_space_array.shape"
   ]
  },
  {
   "cell_type": "code",
   "execution_count": 23,
   "metadata": {},
   "outputs": [
    {
     "data": {
      "text/plain": [
       "<matplotlib.image.AxesImage at 0x7f3c2eec7b50>"
      ]
     },
     "execution_count": 23,
     "metadata": {},
     "output_type": "execute_result"
    },
    {
     "data": {
      "image/png": "[encoded data removed]",
      "text/plain": [
       "<Figure size 432x288 with 1 Axes>"
      ]
     },
     "metadata": {
      "needs_background": "light"
     },
     "output_type": "display_data"
    }
   ],
   "source": [
    "plt.imshow(out_mask_image_original_space_array[:,256,:])"
   ]
  },
  {
   "cell_type": "code",
   "execution_count": 24,
   "metadata": {},
   "outputs": [
    {
     "data": {
      "text/plain": [
       "<matplotlib.image.AxesImage at 0x7f3c2edf12d0>"
      ]
     },
     "execution_count": 24,
     "metadata": {},
     "output_type": "execute_result"
    },
    {
     "data": {
      "image/png": "[encoded data removed]",
      "text/plain": [
       "<Figure size 432x288 with 1 Axes>"
      ]
     },
     "metadata": {
      "needs_background": "light"
     },
     "output_type": "display_data"
    }
   ],
   "source": [
    "plt.imshow(original_mask_array[:,256,:])"
   ]
  },
  {
   "cell_type": "code",
   "execution_count": null,
   "metadata": {},
   "outputs": [],
   "source": []
  },
  {
   "cell_type": "code",
   "execution_count": 13,
   "metadata": {},
   "outputs": [
    {
     "data": {
      "text/plain": [
       "[0.9635634513671141,\n",
       " 0.9734216352324616,\n",
       " 0.9725707337274299,\n",
       " 0.5210175089652535,\n",
       " 0.5961370316465767,\n",
       " 0.977239100075349,\n",
       " 0.9742927557042308,\n",
       " 0.003075100164063234,\n",
       " 0.9547585491495636,\n",
       " 0.9714548070891527,\n",
       " 0.974271647636393,\n",
       " 0.9666417156337599,\n",
       " 0.9657932747052238]"
      ]
     },
     "execution_count": 13,
     "metadata": {},
     "output_type": "execute_result"
    }
   ],
   "source": [
    "dices"
   ]
  },
  {
   "cell_type": "code",
   "execution_count": 14,
   "metadata": {},
   "outputs": [
    {
     "data": {
      "text/plain": [
       "0.8318644085458899"
      ]
     },
     "execution_count": 14,
     "metadata": {},
     "output_type": "execute_result"
    }
   ],
   "source": [
    "np.mean(dices)"
   ]
  },
  {
   "cell_type": "code",
   "execution_count": null,
   "metadata": {},
   "outputs": [],
   "source": [
    "np,"
   ]
  },
  {
   "cell_type": "code",
   "execution_count": null,
   "metadata": {},
   "outputs": [],
   "source": [
    "volume = output.cpu().numpy()[0,1,:,:,:]\n",
    "image = data.cpu().numpy()[0,0,:,:,:]\n",
    "volume = np.round(volume)\n",
    "mask = target.cpu().numpy()[0,1,:,:,:]\n",
    "intersection = np.sum(mask*volume)\n",
    "union = np.sum(np.clip(mask+volume,0,1))\n",
    "print(intersection)\n",
    "print(union)\n",
    "print(intersection/union)"
   ]
  },
  {
   "cell_type": "code",
   "execution_count": null,
   "metadata": {},
   "outputs": [],
   "source": [
    "np.unique(volume)"
   ]
  },
  {
   "cell_type": "code",
   "execution_count": null,
   "metadata": {},
   "outputs": [],
   "source": [
    "fg, ax = plt.subplots(3,1,figsize=(10,10))\n",
    "h,w,d = mask.shape\n",
    "ax[0].imshow(image[:,:,d//2])\n",
    "ax[1].imshow(mask[:,:,d//2])\n",
    "ax[2].imshow(volume[:,:,d//2])"
   ]
  }
 ],
 "metadata": {
  "kernelspec": {
   "display_name": "MRIScoringEnv",
   "language": "python",
   "name": "mriscoringenv"
  },
  "language_info": {
   "codemirror_mode": {
    "name": "ipython",
    "version": 3
   },
   "file_extension": ".py",
   "mimetype": "text/x-python",
   "name": "python",
   "nbconvert_exporter": "python",
   "pygments_lexer": "ipython3",
   "version": "3.7.4"
  }
 },
 "nbformat": 4,
 "nbformat_minor": 4
}
